{
  "nbformat": 4,
  "nbformat_minor": 0,
  "metadata": {
    "colab": {
      "provenance": [],
      "authorship_tag": "ABX9TyPGpwIVxt06Nv7AgNkBennz",
      "include_colab_link": true
    },
    "kernelspec": {
      "name": "python3",
      "display_name": "Python 3"
    },
    "language_info": {
      "name": "python"
    }
  },
  "cells": [
    {
      "cell_type": "markdown",
      "metadata": {
        "id": "view-in-github",
        "colab_type": "text"
      },
      "source": [
        "<a href=\"https://colab.research.google.com/github/2403A52284/Batch-11-12/blob/main/Preprocessing.ipynb\" target=\"_parent\"><img src=\"https://colab.research.google.com/assets/colab-badge.svg\" alt=\"Open In Colab\"/></a>"
      ]
    },
    {
      "cell_type": "code",
      "source": [
        "## Data Wrangling steps\n",
        "## filling null values\n",
        "## duplicates\n",
        "## dropnull\n",
        "## rename\n",
        "## add new column\n",
        "## sorting"
      ],
      "metadata": {
        "id": "1_nmSg1XN5oH"
      },
      "execution_count": null,
      "outputs": []
    },
    {
      "cell_type": "code",
      "execution_count": 39,
      "metadata": {
        "colab": {
          "base_uri": "https://localhost:8080/"
        },
        "id": "QuZVEsJNDsHh",
        "outputId": "079680f3-8afa-4cc6-ed3b-b4ab042f5cc9"
      },
      "outputs": [
        {
          "output_type": "stream",
          "name": "stdout",
          "text": [
            "      Name   Age      City   Salary\n",
            "0    Alice  25.0  New York  50000.0\n",
            "1      Bob  48.0    London  60000.0\n",
            "2  Charlie   NaN      None      NaN\n",
            "3    David  40.0     Paris  80000.0\n",
            "4      Eve  25.0    Berlin  90000.0\n",
            "5    Alice  30.0  New York  50000.0\n",
            "6  Charlie   NaN      None      NaN\n"
          ]
        }
      ],
      "source": [
        "import pandas as pd\n",
        "import numpy as np\n",
        "data={\n",
        "    \"Name\":[\"Alice\",\"Bob\",\"Charlie\",\"David\",\"Eve\",\"Alice\",\"Charlie\"],\n",
        "    \"Age\":[25,48,None,40,25,30,None],\n",
        "    \"City\":[\"New York\",\"London\",None,\"Paris\",\"Berlin\",\"New York\",None],\n",
        "    \"Salary\":[50000,60000,None,80000,90000,50000,None],\n",
        "}\n",
        "df=pd.DataFrame(data)\n",
        "print(df)"
      ]
    },
    {
      "cell_type": "code",
      "source": [
        "df['Age']=df['Age'].fillna(df['Age'].mean())\n",
        "df['City']=df['City'].fillna(\"Unknown\")\n",
        "df=df.dropna(subset=['Salary'])\n",
        "print(df)"
      ],
      "metadata": {
        "colab": {
          "base_uri": "https://localhost:8080/"
        },
        "id": "o8Sl-oomKsnt",
        "outputId": "94cde0ea-5aca-41a9-a4ec-573403fe0c17"
      },
      "execution_count": 43,
      "outputs": [
        {
          "output_type": "stream",
          "name": "stdout",
          "text": [
            "    Name   Age      City   Salary\n",
            "0  Alice  25.0  New York  50000.0\n",
            "1    Bob  48.0    London  60000.0\n",
            "3  David  40.0     Paris  80000.0\n",
            "4    Eve  25.0    Berlin  90000.0\n",
            "5  Alice  30.0  New York  50000.0\n"
          ]
        }
      ]
    },
    {
      "cell_type": "code",
      "source": [
        "df = df.drop_duplicates()\n",
        "print(df)"
      ],
      "metadata": {
        "colab": {
          "base_uri": "https://localhost:8080/"
        },
        "id": "4ffGQeYrLzWN",
        "outputId": "9abfa32a-7f7f-4183-b28f-33e76a0d8131"
      },
      "execution_count": 42,
      "outputs": [
        {
          "output_type": "stream",
          "name": "stdout",
          "text": [
            "    Name   Age      City   Salary\n",
            "0  Alice  25.0  New York  50000.0\n",
            "1    Bob  48.0    London  60000.0\n",
            "3  David  40.0     Paris  80000.0\n",
            "4    Eve  25.0    Berlin  90000.0\n",
            "5  Alice  30.0  New York  50000.0\n"
          ]
        }
      ]
    },
    {
      "cell_type": "code",
      "source": [
        "df = df.rename(columns={\"Name\": \"Employee_Name\", \"Age\": \"Employee_Age\"})\n",
        "print(df)"
      ],
      "metadata": {
        "colab": {
          "base_uri": "https://localhost:8080/"
        },
        "id": "jmRWlNMhMZfK",
        "outputId": "7b5e6dac-bf84-42e4-acf2-493d19cb176a"
      },
      "execution_count": 46,
      "outputs": [
        {
          "output_type": "stream",
          "name": "stdout",
          "text": [
            "  Employee_Name  Employee_Age      City   Salary\n",
            "0         Alice          25.0  New York  50000.0\n",
            "1           Bob          48.0    London  60000.0\n",
            "3         David          40.0     Paris  80000.0\n",
            "4           Eve          25.0    Berlin  90000.0\n",
            "5         Alice          30.0  New York  50000.0\n"
          ]
        }
      ]
    },
    {
      "cell_type": "code",
      "source": [
        "df['Employee_Age'] = df['Employee_Age'].astype(int)   # convert float → int\n",
        "print(df)"
      ],
      "metadata": {
        "colab": {
          "base_uri": "https://localhost:8080/"
        },
        "id": "sDwFfHBxMsMF",
        "outputId": "50a8c1e6-0c3b-4ac4-b5ef-bc079bd4fa02"
      },
      "execution_count": 47,
      "outputs": [
        {
          "output_type": "stream",
          "name": "stdout",
          "text": [
            "  Employee_Name  Employee_Age      City   Salary\n",
            "0         Alice            25  New York  50000.0\n",
            "1           Bob            48    London  60000.0\n",
            "3         David            40     Paris  80000.0\n",
            "4           Eve            25    Berlin  90000.0\n",
            "5         Alice            30  New York  50000.0\n"
          ]
        }
      ]
    },
    {
      "cell_type": "code",
      "source": [
        "df_filtered = df[df['Salary'] > 60000]   # employees with salary > 60000\n",
        "print(df)"
      ],
      "metadata": {
        "colab": {
          "base_uri": "https://localhost:8080/"
        },
        "id": "5E3E-q57M4JG",
        "outputId": "108ab45e-fc3c-4bca-c7de-344d9e8939e0"
      },
      "execution_count": 48,
      "outputs": [
        {
          "output_type": "stream",
          "name": "stdout",
          "text": [
            "  Employee_Name  Employee_Age      City   Salary\n",
            "0         Alice            25  New York  50000.0\n",
            "1           Bob            48    London  60000.0\n",
            "3         David            40     Paris  80000.0\n",
            "4           Eve            25    Berlin  90000.0\n",
            "5         Alice            30  New York  50000.0\n"
          ]
        }
      ]
    },
    {
      "cell_type": "code",
      "source": [
        "df['Bonus'] = df['Salary'] * 0.10   # 10% bonus\n",
        "print(df)"
      ],
      "metadata": {
        "colab": {
          "base_uri": "https://localhost:8080/"
        },
        "id": "cQ_4dx0cM1Lv",
        "outputId": "0f3ba2bf-8a39-44ba-ccf8-7671d2d9b20f"
      },
      "execution_count": 49,
      "outputs": [
        {
          "output_type": "stream",
          "name": "stdout",
          "text": [
            "  Employee_Name  Employee_Age      City   Salary   Bonus\n",
            "0         Alice            25  New York  50000.0  5000.0\n",
            "1           Bob            48    London  60000.0  6000.0\n",
            "3         David            40     Paris  80000.0  8000.0\n",
            "4           Eve            25    Berlin  90000.0  9000.0\n",
            "5         Alice            30  New York  50000.0  5000.0\n"
          ]
        }
      ]
    },
    {
      "cell_type": "code",
      "source": [
        "df = df.sort_values(by='Salary', ascending=False)\n",
        "print(df)"
      ],
      "metadata": {
        "colab": {
          "base_uri": "https://localhost:8080/"
        },
        "id": "RDb4l9D-NDPB",
        "outputId": "c95db6f6-5feb-488d-8af0-86c89d203dd6"
      },
      "execution_count": 50,
      "outputs": [
        {
          "output_type": "stream",
          "name": "stdout",
          "text": [
            "  Employee_Name  Employee_Age      City   Salary   Bonus\n",
            "4           Eve            25    Berlin  90000.0  9000.0\n",
            "3         David            40     Paris  80000.0  8000.0\n",
            "1           Bob            48    London  60000.0  6000.0\n",
            "0         Alice            25  New York  50000.0  5000.0\n",
            "5         Alice            30  New York  50000.0  5000.0\n"
          ]
        }
      ]
    },
    {
      "cell_type": "code",
      "source": [
        "df_group = df.groupby('City')['Salary'].mean()\n",
        "print(df_group)"
      ],
      "metadata": {
        "colab": {
          "base_uri": "https://localhost:8080/"
        },
        "id": "Q3FWnLggNLfu",
        "outputId": "80823c6d-b1f1-4b4d-c682-ce374820d362"
      },
      "execution_count": 51,
      "outputs": [
        {
          "output_type": "stream",
          "name": "stdout",
          "text": [
            "City\n",
            "Berlin      90000.0\n",
            "London      60000.0\n",
            "New York    50000.0\n",
            "Paris       80000.0\n",
            "Name: Salary, dtype: float64\n"
          ]
        }
      ]
    }
  ]
}